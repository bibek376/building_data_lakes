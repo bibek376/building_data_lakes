{
 "cells": [
  {
   "cell_type": "code",
   "execution_count": null,
   "id": "eba233dc",
   "metadata": {},
   "outputs": [],
   "source": [
    "import requests\n",
    "import pandas as pd\n",
    "\n",
    "def json_data():\n",
    "    # Define the API endpoint\n",
    "    api_url = \"https://api.openweathermap.org/data/2.5/weather?q=kathmandu&appid=cb30e0dc15aa462246502f6d67a73bd8\"\n",
    "\n",
    "    # Make a GET request to the API\n",
    "    response = requests.get(api_url)\n",
    "\n",
    "    # Check if the request was successful (status code 200)\n",
    "    if response.status_code == 200:\n",
    "        # Return the JSON data directly\n",
    "        return response.json()\n",
    "    else:\n",
    "        # Print an error message if the request was not successful\n",
    "        print(\"Error:\", response.status_code)\n",
    "        # Return None if there's an error\n",
    "        return None\n",
    "\n",
    "data = json_data()\n",
    "\n",
    "# Check if data is not None (i.e., the request was successful)\n",
    "if data:\n",
    "    # Convert JSON data to DataFrame\n",
    "    df = pd.json_normalize(data)\n",
    "    print(df)\n"
   ]
  }
 ],
 "metadata": {
  "kernelspec": {
   "display_name": "Python 3 (ipykernel)",
   "language": "python",
   "name": "python3"
  },
  "language_info": {
   "codemirror_mode": {
    "name": "ipython",
    "version": 3
   },
   "file_extension": ".py",
   "mimetype": "text/x-python",
   "name": "python",
   "nbconvert_exporter": "python",
   "pygments_lexer": "ipython3",
   "version": "3.10.12"
  }
 },
 "nbformat": 4,
 "nbformat_minor": 5
}
